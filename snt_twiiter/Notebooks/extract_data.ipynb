{
 "cells": [
  {
   "cell_type": "code",
   "execution_count": 60,
   "metadata": {},
   "outputs": [],
   "source": [
    "import tweepy\n",
    "import requests as r\n",
    "import pandas as pd\n"
   ]
  },
  {
   "cell_type": "code",
   "execution_count": 61,
   "metadata": {},
   "outputs": [
    {
     "name": "stdout",
     "output_type": "stream",
     "text": [
      "Works\n"
     ]
    }
   ],
   "source": [
    "%run .\\\\keys.ipynb"
   ]
  },
  {
   "cell_type": "code",
   "execution_count": 62,
   "metadata": {},
   "outputs": [],
   "source": [
    "def get_client():\n",
    "    client = tweepy.Client(bearer_token=bearer_token, \n",
    "                        consumer_key=consumer_key,\n",
    "                        consumer_secret=consumer_secret,\n",
    "                        access_token=access_token,\n",
    "                        access_token_secret=access_token_secret)\n",
    "    return client"
   ]
  },
  {
   "cell_type": "code",
   "execution_count": 63,
   "metadata": {},
   "outputs": [],
   "source": [
    "def get_user_info(name):\n",
    "\n",
    "    info ={}\n",
    "\n",
    "    client = get_client()\n",
    "    user = client.get_user(username=name)\n",
    "\n",
    "    return user.data"
   ]
  },
  {
   "cell_type": "code",
   "execution_count": 64,
   "metadata": {},
   "outputs": [
    {
     "data": {
      "text/plain": [
       "<User id=16742912 name=Freddy Vega username=freddier>"
      ]
     },
     "execution_count": 64,
     "metadata": {},
     "output_type": "execute_result"
    }
   ],
   "source": [
    "user = get_user_info(\"freddier\")\n",
    "user"
   ]
  },
  {
   "cell_type": "code",
   "execution_count": 65,
   "metadata": {},
   "outputs": [
    {
     "data": {
      "text/plain": [
       "<User id=817789 name=cvander.eth✨ username=cvander>"
      ]
     },
     "execution_count": 65,
     "metadata": {},
     "output_type": "execute_result"
    }
   ],
   "source": [
    "user = get_user_info(\"cvander\")\n",
    "user\n"
   ]
  },
  {
   "cell_type": "code",
   "execution_count": 66,
   "metadata": {},
   "outputs": [
    {
     "data": {
      "text/plain": [
       "{'title': 'Unauthorized',\n",
       " 'type': 'about:blank',\n",
       " 'status': 401,\n",
       " 'detail': 'Unauthorized'}"
      ]
     },
     "execution_count": 66,
     "metadata": {},
     "output_type": "execute_result"
    }
   ],
   "source": [
    "url = \"https://api.twitter.com/2/tweets/search/all\"\n",
    "\n",
    "query_params = {\n",
    "    \"query\":\"APPL\",\n",
    "    \"user.fields\":\"name\",\n",
    "}\n",
    "\n",
    "response = r.get(url, params=query_params).json()\n",
    "response"
   ]
  },
  {
   "cell_type": "code",
   "execution_count": 75,
   "metadata": {},
   "outputs": [],
   "source": [
    "bearer_token\n",
    "\n",
    "def bearer_oauth(r):\n",
    "    \n",
    "    r.headers['Authorization'] = f\"Bearer {bearer_token}\"\n",
    "    r.headers[\"User-Agent\"]=\"v2UserLookupPython\"\n",
    "    return r\n",
    "\n"
   ]
  },
  {
   "cell_type": "code",
   "execution_count": 76,
   "metadata": {},
   "outputs": [],
   "source": [
    "\n",
    "\n",
    "def connection_endpoint(url):\n",
    "    response = r.get( url, auth=bearer_oauth)\n",
    "    return response\n",
    "    "
   ]
  },
  {
   "cell_type": "code",
   "execution_count": 77,
   "metadata": {},
   "outputs": [
    {
     "data": {
      "text/plain": [
       "<Response [400]>"
      ]
     },
     "execution_count": 77,
     "metadata": {},
     "output_type": "execute_result"
    }
   ],
   "source": [
    "data = connection_endpoint(\"https://api.twitter.com/2/users/by?freddier\")\n",
    "data\n"
   ]
  },
  {
   "cell_type": "code",
   "execution_count": null,
   "metadata": {},
   "outputs": [],
   "source": []
  },
  {
   "cell_type": "code",
   "execution_count": null,
   "metadata": {},
   "outputs": [
    {
     "data": {
      "text/plain": [
       "'https://api.twitter.com/2/user/by?freddier&user.field=description,created_at'"
      ]
     },
     "execution_count": 46,
     "metadata": {},
     "output_type": "execute_result"
    }
   ],
   "source": [
    "username =['freddier','cvander']\n",
    "userfields =\"user.field=description,created_at\"\n",
    "url = \"https://api.twitter.com/2/users/by?{}&{}\".format(username[0], userfields)\n",
    "url"
   ]
  },
  {
   "cell_type": "code",
   "execution_count": null,
   "metadata": {},
   "outputs": [],
   "source": []
  }
 ],
 "metadata": {
  "interpreter": {
   "hash": "532ed13cdf8673c67261437bdca1022e1aec05b4652437cfe096290ffac44619"
  },
  "kernelspec": {
   "display_name": "Python 3.8.8 64-bit ('env_sna': venv)",
   "language": "python",
   "name": "python3"
  },
  "language_info": {
   "codemirror_mode": {
    "name": "ipython",
    "version": 3
   },
   "file_extension": ".py",
   "mimetype": "text/x-python",
   "name": "python",
   "nbconvert_exporter": "python",
   "pygments_lexer": "ipython3",
   "version": "3.8.8"
  },
  "orig_nbformat": 4
 },
 "nbformat": 4,
 "nbformat_minor": 2
}
