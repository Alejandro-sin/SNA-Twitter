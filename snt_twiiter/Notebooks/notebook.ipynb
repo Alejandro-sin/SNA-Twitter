{
 "cells": [
  {
   "cell_type": "markdown",
   "metadata": {},
   "source": [
    "# Titulazo"
   ]
  },
  {
   "cell_type": "code",
   "execution_count": 1,
   "metadata": {},
   "outputs": [],
   "source": [
    "%load_ext autoreload # Enables reload all modules before code type\n",
    "%autoreload 2"
   ]
  },
  {
   "cell_type": "code",
   "execution_count": null,
   "metadata": {},
   "outputs": [],
   "source": [
    "import networkx as nx\n",
    "import numpy as n\n",
    "import pandas as pd\n",
    "import holoviews as hv\n",
    "from holoviews import opts"
   ]
  }
 ],
 "metadata": {
  "interpreter": {
   "hash": "91ad15359b2079a3420f8e8c829ff0d3a88a32a1816ba6440332f00f489b9adb"
  },
  "kernelspec": {
   "display_name": "Python 3.9.7 64-bit ('cookiecutter_workshop': conda)",
   "language": "python",
   "name": "python3"
  },
  "language_info": {
   "codemirror_mode": {
    "name": "ipython",
    "version": 3
   },
   "file_extension": ".py",
   "mimetype": "text/x-python",
   "name": "python",
   "nbconvert_exporter": "python",
   "pygments_lexer": "ipython3",
   "version": "3.9.7"
  },
  "orig_nbformat": 4
 },
 "nbformat": 4,
 "nbformat_minor": 2
}
